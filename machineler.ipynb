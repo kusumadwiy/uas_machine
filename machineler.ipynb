{
  "nbformat": 4,
  "nbformat_minor": 0,
  "metadata": {
    "colab": {
      "provenance": []
    },
    "kernelspec": {
      "name": "python3",
      "display_name": "Python 3"
    },
    "language_info": {
      "name": "python"
    }
  },
  "cells": [
    {
      "cell_type": "code",
      "execution_count": null,
      "metadata": {
        "colab": {
          "base_uri": "https://localhost:8080/"
        },
        "id": "VilGQq9MmF8c",
        "outputId": "cf27500f-52e9-47a6-960c-6a188e391d8f"
      },
      "outputs": [
        {
          "output_type": "stream",
          "name": "stdout",
          "text": [
            "   Transaction ID        Date Customer ID  Gender  Age Product Category  \\\n",
            "0               1  2023-11-24     CUST001    Male   34           Beauty   \n",
            "1               2  2023-02-27     CUST002  Female   26         Clothing   \n",
            "2               3  2023-01-13     CUST003    Male   50      Electronics   \n",
            "3               4  2023-05-21     CUST004    Male   37         Clothing   \n",
            "4               5  2023-05-06     CUST005    Male   30           Beauty   \n",
            "\n",
            "   Quantity  Price per Unit  Total Amount  \n",
            "0         3              50           150  \n",
            "1         2             500          1000  \n",
            "2         1              30            30  \n",
            "3         1             500           500  \n",
            "4         2              50           100  \n",
            "Mean Squared Error: 41883.99204291284\n"
          ]
        },
        {
          "output_type": "stream",
          "name": "stderr",
          "text": [
            "/usr/local/lib/python3.10/dist-packages/sklearn/preprocessing/_encoders.py:868: FutureWarning: `sparse` was renamed to `sparse_output` in version 1.2 and will be removed in 1.4. `sparse_output` is ignored unless you leave `sparse` to its default value.\n",
            "  warnings.warn(\n"
          ]
        }
      ],
      "source": [
        "import pandas as pd\n",
        "from sklearn.model_selection import train_test_split\n",
        "from sklearn.linear_model import LinearRegression\n",
        "from sklearn.preprocessing import OneHotEncoder\n",
        "from sklearn.metrics import mean_squared_error\n",
        "import pickle\n",
        "\n",
        "# Load data\n",
        "data = pd.read_csv('/content/drive/MyDrive/retail_sales_dataset.csv')\n",
        "\n",
        "# Menampilkan beberapa baris pertama data untuk memeriksa isinya\n",
        "print(data.head())\n",
        "\n",
        "# Fitur dan target\n",
        "X = data[['Gender', 'Age', 'Product Category', 'Quantity', 'Price per Unit']]\n",
        "y = data['Total Amount']\n",
        "\n",
        "# One-hot encoding untuk fitur kategorikal\n",
        "encoder = OneHotEncoder(drop='first', sparse=False)\n",
        "X_encoded = encoder.fit_transform(X[['Gender', 'Product Category']])\n",
        "\n",
        "# Konversi hasil encoding ke DataFrame dan gabungkan dengan fitur numerik\n",
        "X_encoded_df = pd.DataFrame(X_encoded, columns=encoder.get_feature_names_out(['Gender', 'Product Category']))\n",
        "X_final = pd.concat([X.drop(['Gender', 'Product Category'], axis=1), X_encoded_df], axis=1)\n",
        "\n",
        "# Bagi data menjadi set pelatihan dan pengujian\n",
        "X_train, X_test, y_train, y_test = train_test_split(X_final, y, test_size=0.2, random_state=42)\n",
        "\n",
        "# Inisialisasi dan latih model regresi linear\n",
        "model = LinearRegression()\n",
        "model.fit(X_train, y_train)\n",
        "\n",
        "# Evaluasi model\n",
        "y_pred = model.predict(X_test)\n",
        "mse = mean_squared_error(y_test, y_pred)\n",
        "print(f'Mean Squared Error: {mse}')\n",
        "\n",
        "# Simpan model dan encoder\n",
        "with open('model.pkl', 'wb') as f:\n",
        "    pickle.dump(model, f)\n",
        "\n",
        "with open('encoder.pkl', 'wb') as f:\n",
        "    pickle.dump(encoder, f)"
      ]
    }
  ]
}